{
 "cells": [
  {
   "cell_type": "markdown",
   "id": "5ebecfc0",
   "metadata": {},
   "source": [
    "### Imporacion de dependencias"
   ]
  },
  {
   "cell_type": "code",
   "execution_count": 12,
   "id": "80615986",
   "metadata": {},
   "outputs": [],
   "source": [
    "import pandas as pd"
   ]
  },
  {
   "cell_type": "markdown",
   "id": "0c0e617e",
   "metadata": {},
   "source": [
    "### importamos warning para evitar los warnings en consola"
   ]
  },
  {
   "cell_type": "code",
   "execution_count": 13,
   "id": "996fc6bf",
   "metadata": {},
   "outputs": [],
   "source": [
    "import warnings\n",
    "\n",
    "warnings.simplefilter('ignore')"
   ]
  },
  {
   "cell_type": "markdown",
   "id": "a892dd05",
   "metadata": {},
   "source": [
    "### Creamos el dataframe"
   ]
  },
  {
   "cell_type": "code",
   "execution_count": 14,
   "id": "28e9e3f5",
   "metadata": {},
   "outputs": [
    {
     "data": {
      "text/html": [
       "<div>\n",
       "<style scoped>\n",
       "    .dataframe tbody tr th:only-of-type {\n",
       "        vertical-align: middle;\n",
       "    }\n",
       "\n",
       "    .dataframe tbody tr th {\n",
       "        vertical-align: top;\n",
       "    }\n",
       "\n",
       "    .dataframe thead th {\n",
       "        text-align: right;\n",
       "    }\n",
       "</style>\n",
       "<table border=\"1\" class=\"dataframe\">\n",
       "  <thead>\n",
       "    <tr style=\"text-align: right;\">\n",
       "      <th></th>\n",
       "      <th>country</th>\n",
       "      <th>rank</th>\n",
       "      <th>score</th>\n",
       "      <th>high</th>\n",
       "      <th>low</th>\n",
       "      <th>gdp</th>\n",
       "      <th>family</th>\n",
       "      <th>lifexp</th>\n",
       "      <th>freedom</th>\n",
       "      <th>generosity</th>\n",
       "      <th>corruption</th>\n",
       "      <th>dystopia</th>\n",
       "    </tr>\n",
       "  </thead>\n",
       "  <tbody>\n",
       "    <tr>\n",
       "      <th>173</th>\n",
       "      <td>1</td>\n",
       "      <td>0</td>\n",
       "      <td>0.0</td>\n",
       "      <td>0.0</td>\n",
       "      <td>0.0</td>\n",
       "      <td>0.0</td>\n",
       "      <td>0.0</td>\n",
       "      <td>0.0</td>\n",
       "      <td>0.0</td>\n",
       "      <td>0.0</td>\n",
       "      <td>0.0</td>\n",
       "      <td>0.0</td>\n",
       "    </tr>\n",
       "    <tr>\n",
       "      <th>174</th>\n",
       "      <td>1</td>\n",
       "      <td>0</td>\n",
       "      <td>0.0</td>\n",
       "      <td>0.0</td>\n",
       "      <td>0.0</td>\n",
       "      <td>0.0</td>\n",
       "      <td>0.0</td>\n",
       "      <td>0.0</td>\n",
       "      <td>0.0</td>\n",
       "      <td>0.0</td>\n",
       "      <td>0.0</td>\n",
       "      <td>0.0</td>\n",
       "    </tr>\n",
       "    <tr>\n",
       "      <th>175</th>\n",
       "      <td>1</td>\n",
       "      <td>0</td>\n",
       "      <td>0.0</td>\n",
       "      <td>0.0</td>\n",
       "      <td>0.0</td>\n",
       "      <td>0.0</td>\n",
       "      <td>0.0</td>\n",
       "      <td>0.0</td>\n",
       "      <td>0.0</td>\n",
       "      <td>0.0</td>\n",
       "      <td>0.0</td>\n",
       "      <td>0.0</td>\n",
       "    </tr>\n",
       "    <tr>\n",
       "      <th>176</th>\n",
       "      <td>1</td>\n",
       "      <td>0</td>\n",
       "      <td>0.0</td>\n",
       "      <td>0.0</td>\n",
       "      <td>0.0</td>\n",
       "      <td>0.0</td>\n",
       "      <td>0.0</td>\n",
       "      <td>0.0</td>\n",
       "      <td>0.0</td>\n",
       "      <td>0.0</td>\n",
       "      <td>0.0</td>\n",
       "      <td>0.0</td>\n",
       "    </tr>\n",
       "    <tr>\n",
       "      <th>177</th>\n",
       "      <td>1</td>\n",
       "      <td>0</td>\n",
       "      <td>0.0</td>\n",
       "      <td>0.0</td>\n",
       "      <td>0.0</td>\n",
       "      <td>0.0</td>\n",
       "      <td>0.0</td>\n",
       "      <td>0.0</td>\n",
       "      <td>0.0</td>\n",
       "      <td>0.0</td>\n",
       "      <td>0.0</td>\n",
       "      <td>0.0</td>\n",
       "    </tr>\n",
       "  </tbody>\n",
       "</table>\n",
       "</div>"
      ],
      "text/plain": [
       "    country  rank  score  high  low  gdp  family  lifexp  freedom  generosity  \\\n",
       "173       1     0    0.0   0.0  0.0  0.0     0.0     0.0      0.0         0.0   \n",
       "174       1     0    0.0   0.0  0.0  0.0     0.0     0.0      0.0         0.0   \n",
       "175       1     0    0.0   0.0  0.0  0.0     0.0     0.0      0.0         0.0   \n",
       "176       1     0    0.0   0.0  0.0  0.0     0.0     0.0      0.0         0.0   \n",
       "177       1     0    0.0   0.0  0.0  0.0     0.0     0.0      0.0         0.0   \n",
       "\n",
       "     corruption  dystopia  \n",
       "173         0.0       0.0  \n",
       "174         0.0       0.0  \n",
       "175         0.0       0.0  \n",
       "176         0.0       0.0  \n",
       "177         0.0       0.0  "
      ]
     },
     "execution_count": 14,
     "metadata": {},
     "output_type": "execute_result"
    }
   ],
   "source": [
    "df = pd.read_csv(\"felicidad.csv\")\n",
    "df.tail()"
   ]
  },
  {
   "cell_type": "markdown",
   "id": "d212f352",
   "metadata": {},
   "source": [
    "### importamos desde sklearn RANSACRegressor y HuberREgressor\n"
   ]
  },
  {
   "cell_type": "code",
   "execution_count": 15,
   "id": "4672b2f8",
   "metadata": {},
   "outputs": [],
   "source": [
    "from sklearn.linear_model import RANSACRegressor, HuberRegressor"
   ]
  },
  {
   "cell_type": "markdown",
   "id": "be68ff3b",
   "metadata": {},
   "source": [
    "### Utilizaremos para comparar un modelo de svm o maquina de sorportes vectoriales."
   ]
  },
  {
   "cell_type": "code",
   "execution_count": 16,
   "id": "67a9a915",
   "metadata": {},
   "outputs": [],
   "source": [
    "from sklearn.svm import SVR \n",
    "from sklearn.model_selection import train_test_split\n",
    "from sklearn.metrics import mean_squared_error"
   ]
  },
  {
   "cell_type": "markdown",
   "id": "e4f64673",
   "metadata": {},
   "source": [
    "### Preparamos los datos a utilizar"
   ]
  },
  {
   "cell_type": "code",
   "execution_count": 17,
   "id": "7bb17b1b",
   "metadata": {},
   "outputs": [],
   "source": [
    "X = df.drop(['country', 'score'], axis=1)\n",
    "Y = df[\"score\"]"
   ]
  },
  {
   "cell_type": "markdown",
   "id": "39915ee0",
   "metadata": {},
   "source": [
    "Dividimos nuestro datasets en train y test"
   ]
  },
  {
   "cell_type": "code",
   "execution_count": 18,
   "id": "7d2ac2d4",
   "metadata": {},
   "outputs": [],
   "source": [
    "X_train, X_test, Y_train, Y_test = train_test_split(X, Y, test_size= 0.3, random_state=42)"
   ]
  },
  {
   "cell_type": "markdown",
   "id": "4ac8c7c3",
   "metadata": {},
   "source": [
    "APlicamos los estimadores con scikit learn"
   ]
  },
  {
   "cell_type": "code",
   "execution_count": 19,
   "id": "df337398",
   "metadata": {},
   "outputs": [],
   "source": [
    "estimadores = {\n",
    "    'SVR': SVR(gamma= \"auto\", C=1.0, epsilon=0.1),\n",
    "    \"RANSAC\": RANSACRegressor(), \n",
    "    \"huber\": HuberRegressor(epsilon=1.35)\n",
    "    \n",
    "}"
   ]
  },
  {
   "cell_type": "markdown",
   "id": "3eea2956",
   "metadata": {},
   "source": [
    "Iteramos sobre el diccionario de los estimadores para probarlos"
   ]
  },
  {
   "cell_type": "code",
   "execution_count": 20,
   "id": "c5ce0a5f",
   "metadata": {},
   "outputs": [
    {
     "name": "stdout",
     "output_type": "stream",
     "text": [
      "================================\n",
      "SVR\n",
      "MSE 0.11231717221057103\n",
      "================================\n",
      "RANSAC\n",
      "MSE 1.0975526356811516e-19\n",
      "================================\n",
      "huber\n",
      "MSE 4.9352458084432014e-06\n"
     ]
    }
   ],
   "source": [
    "for name, estimador in estimadores.items():\n",
    "    estimador.fit(X_train, Y_train)\n",
    "    predictions = estimador.predict(X_test) \n",
    "    print(\"=\" * 32)\n",
    "    print(name)\n",
    "    print(\"MSE\", mean_squared_error(Y_test, predictions))"
   ]
  }
 ],
 "metadata": {
  "kernelspec": {
   "display_name": "env",
   "language": "python",
   "name": "python3"
  },
  "language_info": {
   "codemirror_mode": {
    "name": "ipython",
    "version": 3
   },
   "file_extension": ".py",
   "mimetype": "text/x-python",
   "name": "python",
   "nbconvert_exporter": "python",
   "pygments_lexer": "ipython3",
   "version": "3.12.3"
  }
 },
 "nbformat": 4,
 "nbformat_minor": 5
}
